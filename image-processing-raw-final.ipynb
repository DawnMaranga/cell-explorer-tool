{
 "cells": [
  {
   "cell_type": "markdown",
   "metadata": {},
   "source": [
    "# Cell Explorer"
   ]
  },
  {
   "cell_type": "markdown",
   "metadata": {},
   "source": [
    "Below is a cell explorer written in python. It uses a couple of libraries to enable the \"you\" The User to:\n",
    "\n",
    "* Load a images preferably 4. I'll send a pull request to the team responsible to figure out the bug.\n",
    "* Zoom into an image, zoom out.\n",
    "* Change brightness, contrast and sharpness of the image.\n",
    "* Save coordinates selected in JSON (JavaScript Object Notation). \n",
    "* Write a description of the image.\n",
    "* Rename the file.\n",
    "\n",
    "This is just one part of the project. This application was made for life scientists to use to refine the features of their images to look for something of interest. "
   ]
  },
  {
   "cell_type": "code",
   "execution_count": 1,
   "metadata": {},
   "outputs": [],
   "source": [
    "# Used to change filepaths\n",
    "from pathlib import Path\n",
    "\n",
    "# We set up matplotlib, pandas, and the display function\n",
    "%matplotlib inline\n",
    "\n",
    "# graph visualization library roughly \n",
    "import matplotlib.pyplot as plt\n",
    "\n",
    "# shows python objects i.e module of interest\n",
    "from IPython.display import display\n",
    "\n",
    "# Data manipulation library similar to dplyr \n",
    "import pandas as pd\n",
    "\n",
    "# for arranging parts of the application\n",
    "from ipywidgets import Layout\n",
    "\n",
    "# Popular image manipulation library: Pillow\n",
    "from PIL import Image, ImageEnhance\n",
    "\n",
    "# get all modules for ipy widgets\n",
    "from ipywidgets import *\n",
    "import ipywidgets as widgets\n",
    "\n",
    "# Input and output library\n",
    "import io\n",
    "\n",
    "# Linear algebra library\n",
    "import numpy as np\n",
    "\n",
    "# import Image from PIL so we can use it later\n",
    "from PIL import *\n"
   ]
  },
  {
   "cell_type": "code",
   "execution_count": 2,
   "metadata": {},
   "outputs": [
    {
     "data": {
      "text/plain": [
       "'7.5.1'"
      ]
     },
     "execution_count": 2,
     "metadata": {},
     "output_type": "execute_result"
    }
   ],
   "source": [
    "# check the version of ipywidgets\n",
    "widgets.__version__"
   ]
  },
  {
   "cell_type": "code",
   "execution_count": 3,
   "metadata": {},
   "outputs": [
    {
     "data": {
      "application/vnd.jupyter.widget-view+json": {
       "model_id": "1040c2e4e5184d26ad694809149211f1",
       "version_major": 2,
       "version_minor": 0
      },
      "text/plain": [
       "FileUpload(value={}, accept='.jpg', description='Upload', multiple=True)"
      ]
     },
     "metadata": {},
     "output_type": "display_data"
    }
   ],
   "source": [
    "# make the file upload widget\n",
    "uploader = widgets.FileUpload(\n",
    "    accept='.jpg',  # Accepted file extension e.g. '.txt', '.pdf', 'image/*', 'image/*,.pdf'\n",
    "    multiple=True  # True to accept multiple files upload else False\n",
    ")\n",
    "display(uploader)"
   ]
  },
  {
   "cell_type": "code",
   "execution_count": 4,
   "metadata": {
    "jupyter": {
     "source_hidden": true
    }
   },
   "outputs": [],
   "source": [
    "def zoom_at(img, x, y, zoom):\n",
    "    '''\n",
    "    allows zooming in, cropping and image resizing\n",
    "    \n",
    "    Args:\n",
    "    img an image that has to be of the form acceptable by the pillow library.\n",
    "    x this is the width coordinate of the image.\n",
    "    y this is the height coordinage of the image.\n",
    "    zoom controls zooming in and out of an image.\n",
    "    '''\n",
    "    w, h = img.size\n",
    "    zoom2 = zoom * 2\n",
    "    img = img.crop((x - w / zoom2, y - h / zoom2, \n",
    "                    x + w / zoom2, y + h / zoom2))\n",
    "    return img.resize((w, h), Image.LANCZOS)"
   ]
  },
  {
   "cell_type": "code",
   "execution_count": 6,
   "metadata": {
    "jupyter": {
     "source_hidden": true
    }
   },
   "outputs": [
    {
     "data": {
      "application/vnd.jupyter.widget-view+json": {
       "model_id": "49f5dfec498b4541a21d3a828eeda1d0",
       "version_major": 2,
       "version_minor": 0
      },
      "text/plain": [
       "interactive(children=(Dropdown(description='id', options=(0, 1, 2, 3), value=0), IntSlider(value=205, descript…"
      ]
     },
     "metadata": {},
     "output_type": "display_data"
    }
   ],
   "source": [
    "@interact\n",
    "def explorer(id = list(range(0, len(uploader.data))), x = 205, y = 250, zoom = 5,contrast = (0.0,5.0), brightness = (0.0,5.0), sharpness = (0.0,2.0), save_image = False):\n",
    "    '''\n",
    "    grabs a variable that contains images, opens one, resizes it, sets specific values for contrast, brightness,\n",
    "    sharpness which is half of 5.0. If the save_image is true save the image as image-processed.jpg. Or returns an\n",
    "    empty string.\n",
    "    \n",
    "    This is converted into a ipywidget decorated @interact\n",
    "    \n",
    "    Args:\n",
    "    id takes the number between 0 to the length of the uploader.data method which is the number of images.\n",
    "    x this is the width coordinate of the image.\n",
    "    y this is the height coordinate of the image.\n",
    "    zoom adjusts zoom level of the image.\n",
    "    contrast adjusts the contrast of the image.\n",
    "    brightness controls the light source radiating or reflecting light.\n",
    "    sharpness adjusts acutance of the image.\n",
    "    save_image a boolean if true saves the image and if false the image is not saved.\n",
    "    \n",
    "    '''\n",
    "    global uploader\n",
    "    ImageData = uploader.data\n",
    "    ImageData = ImageData[id]\n",
    "    get_image2 = Image.open(io.BytesIO(ImageData)).resize((500, 500))\n",
    "    set_zoom = zoom_at(get_image2, x, y, zoom)\n",
    "    img_enhance = ImageEnhance.Contrast(set_zoom).enhance(contrast)\n",
    "    img_bright = ImageEnhance.Brightness(img_enhance).enhance(brightness)\n",
    "    img_sharp = ImageEnhance.Sharpness(img_bright).enhance(sharpness)\n",
    "    if save_image == True:\n",
    "        img_sharp.save(\"image-processed.jpg\")\n",
    "    else:\n",
    "        \"\"\n",
    "    return img_sharp"
   ]
  },
  {
   "cell_type": "code",
   "execution_count": 7,
   "metadata": {
    "jupyter": {
     "source_hidden": true
    }
   },
   "outputs": [
    {
     "data": {
      "application/vnd.jupyter.widget-view+json": {
       "model_id": "62861195278749829877358e232cd990",
       "version_major": 2,
       "version_minor": 0
      },
      "text/plain": [
       "Textarea(value='', placeholder='Describe the image')"
      ]
     },
     "metadata": {},
     "output_type": "display_data"
    }
   ],
   "source": [
    "# make a widget that calls in a text box\n",
    "writetext = widgets.Textarea(\n",
    "    value='',\n",
    "    placeholder='Describe the image',\n",
    "    disabled=False\n",
    ")\n",
    "\n",
    "writetext"
   ]
  },
  {
   "cell_type": "code",
   "execution_count": 8,
   "metadata": {
    "jupyter": {
     "source_hidden": true
    }
   },
   "outputs": [],
   "source": [
    "# defining parts of the function that user will interract with\n",
    "id = explorer.widget.children[0]\n",
    "x = explorer.widget.children[1]\n",
    "y = explorer.widget.children[2]\n",
    "zoom = explorer.widget.children[3]\n",
    "contrast = explorer.widget.children[4]\n",
    "brightness = explorer.widget.children[5]\n",
    "sharpness = explorer.widget.children[6]\n",
    "saveimage = explorer.widget.children[7]\n",
    "imageviewer = explorer.widget.children[8]"
   ]
  },
  {
   "cell_type": "code",
   "execution_count": 9,
   "metadata": {
    "jupyter": {
     "source_hidden": true
    }
   },
   "outputs": [],
   "source": [
    "def save_image_parameters(save_parameters=False):\n",
    "    '''\n",
    "    Saves the position of the image as well as the parameters specified in the left checkboxes.\n",
    "    \n",
    "    Args:\n",
    "    save_parameters this controls the checkbox. If true the parameters of the image are saved.\n",
    "    \n",
    "    '''\n",
    "    if save_parameters == True:\n",
    "        nested_json_object = pd.DataFrame({\"coordinates_x\":[x.value],\n",
    "                                   \"coordinates_y\": [y.value],\n",
    "                                   \"zoom\": [zoom.value],\n",
    "                                   \"contrast\":[contrast.value],\n",
    "                                   \"brightness\":[brightness.value],\n",
    "                                   \"sharpness\":[sharpness.value]})\n",
    "        nested_json_object = str(nested_json_object.to_json(orient=\"records\"))\n",
    "        print(nested_json_object)\n",
    "        file = open(\"saved_image_parameters.json\", \"w+\")  \n",
    "        file.write(nested_json_object)\n",
    "        file.close()"
   ]
  },
  {
   "cell_type": "code",
   "execution_count": 10,
   "metadata": {
    "jupyter": {
     "source_hidden": true
    }
   },
   "outputs": [
    {
     "data": {
      "application/vnd.jupyter.widget-view+json": {
       "model_id": "7c6339789a654403a4566c3d587f2d5f",
       "version_major": 2,
       "version_minor": 0
      },
      "text/plain": [
       "interactive(children=(Checkbox(value=False, description='save_parameters'), Output()), _dom_classes=('widget-i…"
      ]
     },
     "metadata": {},
     "output_type": "display_data"
    }
   ],
   "source": [
    "# Makes an interractive object and saves it in a variable save_img_param\n",
    "save_img_param = interact(save_image_parameters, parameters = False)"
   ]
  },
  {
   "cell_type": "code",
   "execution_count": 11,
   "metadata": {
    "jupyter": {
     "source_hidden": true
    }
   },
   "outputs": [],
   "source": [
    "# grab the object with the text from the image parameters\n",
    "save_img_param2 = save_img_param.widget.children[0]"
   ]
  },
  {
   "cell_type": "code",
   "execution_count": 12,
   "metadata": {
    "jupyter": {
     "source_hidden": true
    }
   },
   "outputs": [],
   "source": [
    "def rename_file2(rename_file = False):\n",
    "    '''\n",
    "    allows user to change the name of the file that they are using in *.jpg format.\n",
    "    \n",
    "    Args:\n",
    "    rename_file if set to True saves the file of the image one is looking using a standard format.\n",
    "    '''\n",
    "    if rename_file == True:\n",
    "        file_ext = str(np.random.randint(100))\n",
    "        change_filename = os.rename(\"image-processed.jpg\", \"img_processed\" + file_ext + \".jpg\")\n",
    "        change_parameters = os.rename(\"saved_image_parameters.json\", \"saved_image_parameters\" + file_ext + \".json\")\n",
    "        change_description = os.rename(\"saved_image_description.txt\", \"saved_image_description\" + file_ext + \".txt\")"
   ]
  },
  {
   "cell_type": "code",
   "execution_count": 13,
   "metadata": {
    "jupyter": {
     "source_hidden": true
    }
   },
   "outputs": [
    {
     "data": {
      "application/vnd.jupyter.widget-view+json": {
       "model_id": "eb0ea195b3f34e40b4db048bf73631da",
       "version_major": 2,
       "version_minor": 0
      },
      "text/plain": [
       "interactive(children=(Checkbox(value=False, description='rename_file'), Output()), _dom_classes=('widget-inter…"
      ]
     },
     "metadata": {},
     "output_type": "display_data"
    }
   ],
   "source": [
    "# save the object containing the file paths to be renamed\n",
    "rename_files = interact(rename_file2, rename_file = False)"
   ]
  },
  {
   "cell_type": "code",
   "execution_count": 14,
   "metadata": {
    "jupyter": {
     "source_hidden": true
    }
   },
   "outputs": [],
   "source": [
    "# grab the object that is, the results of the renamed file\n",
    "renamed_file = rename_files.widget.children[0]"
   ]
  },
  {
   "cell_type": "code",
   "execution_count": 15,
   "metadata": {
    "jupyter": {
     "source_hidden": true
    }
   },
   "outputs": [],
   "source": [
    "def save_image_description(write_description = False):\n",
    "    '''\n",
    "    saves the description the user types in *.txt format.\n",
    "    \n",
    "    Args:\n",
    "    write_description if set to true it will save what the user typed into the checkbox into a file in called\n",
    "    saved_image_description.txt.\n",
    "    '''\n",
    "    if write_description == True:\n",
    "        save_description = writetext.value\n",
    "        file_open = open(\"saved_image_description.txt\", \"w+\")\n",
    "        file_open.write(save_description)\n",
    "        file_open.close()"
   ]
  },
  {
   "cell_type": "code",
   "execution_count": 16,
   "metadata": {
    "jupyter": {
     "source_hidden": true
    }
   },
   "outputs": [
    {
     "data": {
      "application/vnd.jupyter.widget-view+json": {
       "model_id": "3512a85ae1584538872cfafbd859f9d6",
       "version_major": 2,
       "version_minor": 0
      },
      "text/plain": [
       "interactive(children=(Checkbox(value=False, description='write_description'), Output()), _dom_classes=('widget…"
      ]
     },
     "metadata": {},
     "output_type": "display_data"
    }
   ],
   "source": [
    "# make an interactive object\n",
    "save_image_dsc = interact(save_image_description, parameters = False)"
   ]
  },
  {
   "cell_type": "code",
   "execution_count": 17,
   "metadata": {
    "jupyter": {
     "source_hidden": true
    }
   },
   "outputs": [],
   "source": [
    "# save the object\n",
    "save_img_desptn = save_image_dsc.widget.children[0]"
   ]
  },
  {
   "cell_type": "code",
   "execution_count": 18,
   "metadata": {
    "jupyter": {
     "source_hidden": true
    }
   },
   "outputs": [],
   "source": [
    "# arranging the different widgets in a vertical box relating to sliders\n",
    "sliders_upload = VBox([uploader,\n",
    "    id,\n",
    "      x, \n",
    "      y,\n",
    "      zoom,\n",
    "      contrast,\n",
    "      brightness,\n",
    "      sharpness,\n",
    "      saveimage,\n",
    "      ])"
   ]
  },
  {
   "cell_type": "code",
   "execution_count": 19,
   "metadata": {
    "jupyter": {
     "source_hidden": true
    }
   },
   "outputs": [],
   "source": [
    "# arranging the different widgets in a vertical box relating to checkboxes\n",
    "checkboxes = VBox([save_img_param2,\n",
    "      save_img_desptn, renamed_file,writetext])"
   ]
  },
  {
   "cell_type": "code",
   "execution_count": 20,
   "metadata": {
    "jupyter": {
     "source_hidden": true
    }
   },
   "outputs": [],
   "source": [
    "def create_expanded_button(description, button_style):\n",
    "    '''\n",
    "    Default function from the ipywidgets documentation to handle user interfaces.\n",
    "    '''\n",
    "    return Button(description=description, button_style=button_style, layout=Layout(height='auto', width='auto'))\n",
    "\n",
    "top_left_button = create_expanded_button(\"Top left\", 'info')\n",
    "top_right_button = create_expanded_button(\"Top right\", 'success')\n",
    "bottom_left_button = create_expanded_button(\"Bottom left\", 'danger')\n",
    "bottom_right_button = create_expanded_button(\"Bottom right\", 'warning')"
   ]
  },
  {
   "cell_type": "code",
   "execution_count": 21,
   "metadata": {
    "jupyter": {
     "source_hidden": true
    }
   },
   "outputs": [],
   "source": [
    "# call the function and saving the results to be used later\n",
    "header_button = create_expanded_button('Image explorer: For selecting the cells of interest using an explorer', 'success')\n",
    "left_button = create_expanded_button('Left', 'info')\n",
    "center_button = create_expanded_button('Center', \"success\")\n",
    "right_button = create_expanded_button('Right', 'info')\n",
    "footer_button = create_expanded_button('Credit: Ben Mainye', 'success')"
   ]
  },
  {
   "cell_type": "code",
   "execution_count": 22,
   "metadata": {},
   "outputs": [
    {
     "data": {
      "application/vnd.jupyter.widget-view+json": {
       "model_id": "35e2854206864e04821176db0b839856",
       "version_major": 2,
       "version_minor": 0
      },
      "text/plain": [
       "AppLayout(children=(Button(button_style='success', description='Image explorer: For selecting the cells of int…"
      ]
     },
     "metadata": {},
     "output_type": "display_data"
    }
   ],
   "source": [
    "# put all components of the application in one place.\n",
    "my_app = AppLayout(header=header_button,\n",
    "          left_sidebar=sliders_upload,\n",
    "          center=imageviewer,\n",
    "          right_sidebar=checkboxes,\n",
    "          footer=footer_button,\n",
    "          pane_widths=[10, 10, 10],\n",
    "          pane_heights=[1, 10, '50px'])\n",
    "\n",
    "display(my_app)"
   ]
  },
  {
   "cell_type": "code",
   "execution_count": null,
   "metadata": {},
   "outputs": [],
   "source": []
  }
 ],
 "metadata": {
  "hide_input": false,
  "kernelspec": {
   "display_name": "Python 3",
   "language": "python",
   "name": "python3"
  },
  "language_info": {
   "codemirror_mode": {
    "name": "ipython",
    "version": 3
   },
   "file_extension": ".py",
   "mimetype": "text/x-python",
   "name": "python",
   "nbconvert_exporter": "python",
   "pygments_lexer": "ipython3",
   "version": "3.6.7"
  },
  "latex_envs": {
   "LaTeX_envs_menu_present": true,
   "autoclose": false,
   "autocomplete": true,
   "bibliofile": "biblio.bib",
   "cite_by": "apalike",
   "current_citInitial": 1,
   "eqLabelWithNumbers": true,
   "eqNumInitial": 1,
   "hotkeys": {
    "equation": "Ctrl-E",
    "itemize": "Ctrl-I"
   },
   "labels_anchors": false,
   "latex_user_defs": false,
   "report_style_numbering": false,
   "user_envs_cfg": false
  }
 },
 "nbformat": 4,
 "nbformat_minor": 4
}
